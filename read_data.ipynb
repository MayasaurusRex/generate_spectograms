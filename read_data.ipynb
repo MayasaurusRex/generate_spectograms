{
 "cells": [
  {
   "cell_type": "code",
   "execution_count": 1,
   "metadata": {},
   "outputs": [],
   "source": [
    "import firebase_admin \n",
    "from firebase_admin import credentials \n",
    "from firebase_admin import firestore \n",
    "from firebase_admin import db"
   ]
  },
  {
   "cell_type": "code",
   "execution_count": 2,
   "metadata": {},
   "outputs": [],
   "source": [
    "import numpy as np\n",
    "import pandas as pd\n",
    "import math\n",
    "from scipy import signal\n",
    "import matplotlib.pyplot as plt\n",
    "import matplotlib.colors as colors"
   ]
  },
  {
   "cell_type": "code",
   "execution_count": 3,
   "metadata": {},
   "outputs": [],
   "source": [
    "cred = credentials.Certificate('glaucoma-dc019-firebase-adminsdk-pfp4d-120a2945cb.json')\n",
    "app = firebase_admin.initialize_app(cred, {'databaseURL': 'https://glaucoma-dc019-default-rtdb.firebaseio.com'})\n",
    "db = firestore.client()"
   ]
  },
  {
   "cell_type": "code",
   "execution_count": 4,
   "metadata": {},
   "outputs": [
    {
     "name": "stdout",
     "output_type": "stream",
     "text": [
      "2023, Dec 24, 18:28\n",
      "2024, Apr 15, 12:12\n",
      "2024, Apr 16, 16:11\n",
      "2024, Apr 16, 16:18\n",
      "2024, Apr 19, 10:25\n",
      "2024, Apr 9, 13:21\n",
      "2024, Jan 12, 14:40\n"
     ]
    },
    {
     "name": "stderr",
     "output_type": "stream",
     "text": [
      "/Library/Frameworks/Python.framework/Versions/3.9/lib/python3.9/site-packages/scipy/signal/_spectral_py.py:1229: UserWarning: nperseg = 256 is greater than input length  = 136, using nperseg = 136\n",
      "  freqs, time, Zxx = _spectral_helper(x, x, fs, window, nperseg, noverlap,\n"
     ]
    },
    {
     "name": "stdout",
     "output_type": "stream",
     "text": [
      "2024, Jan 8, 12:55\n"
     ]
    },
    {
     "name": "stderr",
     "output_type": "stream",
     "text": [
      "/Library/Frameworks/Python.framework/Versions/3.9/lib/python3.9/site-packages/scipy/signal/_spectral_py.py:1229: UserWarning: nperseg = 256 is greater than input length  = 121, using nperseg = 121\n",
      "  freqs, time, Zxx = _spectral_helper(x, x, fs, window, nperseg, noverlap,\n"
     ]
    },
    {
     "data": {
      "image/png": "[encoded data removed]",
      "text/plain": [
       "<Figure size 432x288 with 1 Axes>"
      ]
     },
     "metadata": {
      "needs_background": "light"
     },
     "output_type": "display_data"
    }
   ],
   "source": [
    "for col in db.collections():\n",
    "    print(col.id)\n",
    "\n",
    "    doc_ref = db.collection(col.id)\n",
    "\n",
    "    col_values = doc_ref.get()\n",
    "    values = []\n",
    "    for document in col_values:\n",
    "        values.append(document.to_dict()['value'])\n",
    "\n",
    "    fs = 838000\n",
    "    f, t, Zxx = signal.stft(values, fs, window='hann', return_onesided=True)\n",
    "    sdb = np.abs(Zxx);\n",
    "    plt.pcolormesh(t, f, sdb)\n",
    "    cc = max(sdb.flatten())+[-60, 0]\n",
    "    ax = plt.gca()\n",
    "    ax.CLim = cc\n",
    "    c = \"jet\"\n",
    "    ax.imshow(np.flip(np.fliplr(sdb)), cmap=c, norm=colors.LogNorm(vmin=sdb.min(), vmax=sdb.max()))\n",
    "    plt.axis('off')\n",
    "    filename = str(col.id) + '.png'\n",
    "    plt.savefig(filename)\n",
    "\n"
   ]
  },
  {
   "cell_type": "code",
   "execution_count": 6,
   "metadata": {},
   "outputs": [
    {
     "name": "stderr",
     "output_type": "stream",
     "text": [
      "2024-04-19 11:21:44.884990: I tensorflow/core/platform/cpu_feature_guard.cc:182] This TensorFlow binary is optimized to use available CPU instructions in performance-critical operations.\n",
      "To enable the following instructions: AVX2 FMA, in other operations, rebuild TensorFlow with the appropriate compiler flags.\n"
     ]
    },
    {
     "ename": "NameError",
     "evalue": "name 'Adam' is not defined",
     "output_type": "error",
     "traceback": [
      "\u001b[0;31m---------------------------------------------------------------------------\u001b[0m",
      "\u001b[0;31mNameError\u001b[0m                                 Traceback (most recent call last)",
      "Input \u001b[0;32mIn [6]\u001b[0m, in \u001b[0;36m<cell line: 4>\u001b[0;34m()\u001b[0m\n\u001b[1;32m      1\u001b[0m \u001b[38;5;28;01mimport\u001b[39;00m \u001b[38;5;21;01mtensorflow\u001b[39;00m \u001b[38;5;28;01mas\u001b[39;00m \u001b[38;5;21;01mtf\u001b[39;00m\n\u001b[1;32m      3\u001b[0m new_model \u001b[38;5;241m=\u001b[39m tf\u001b[38;5;241m.\u001b[39mkeras\u001b[38;5;241m.\u001b[39mmodels\u001b[38;5;241m.\u001b[39mload_model(\u001b[38;5;124m'\u001b[39m\u001b[38;5;124mmy_model_testPDMS\u001b[39m\u001b[38;5;124m'\u001b[39m,\u001b[38;5;28mcompile\u001b[39m \u001b[38;5;241m=\u001b[39m \u001b[38;5;28;01mFalse\u001b[39;00m)\n\u001b[0;32m----> 4\u001b[0m adam \u001b[38;5;241m=\u001b[39m \u001b[43mAdam\u001b[49m(learning_rate\u001b[38;5;241m=\u001b[39m\u001b[38;5;241m0.01\u001b[39m)\n\u001b[1;32m      5\u001b[0m new_model\u001b[38;5;241m.\u001b[39mcompile(optimizer\u001b[38;5;241m=\u001b[39m\u001b[38;5;124m'\u001b[39m\u001b[38;5;124madam\u001b[39m\u001b[38;5;124m'\u001b[39m, loss \u001b[38;5;241m=\u001b[39m \u001b[38;5;124m'\u001b[39m\u001b[38;5;124mcategorical_crossentropy\u001b[39m\u001b[38;5;124m'\u001b[39m, metrics \u001b[38;5;241m=\u001b[39m [\u001b[38;5;124m'\u001b[39m\u001b[38;5;124macc\u001b[39m\u001b[38;5;124m'\u001b[39m])\n\u001b[1;32m      6\u001b[0m test_datagen \u001b[38;5;241m=\u001b[39m ImageDataGenerator(rescale \u001b[38;5;241m=\u001b[39m \u001b[38;5;241m1.0\u001b[39m\u001b[38;5;241m/\u001b[39m\u001b[38;5;241m255.\u001b[39m) \n",
      "\u001b[0;31mNameError\u001b[0m: name 'Adam' is not defined"
     ]
    }
   ],
   "source": [
    "import tensorflow as tf\n",
    "from tensorflow.keras.optimizers import Adam\n",
    "from tensorflow.keras.preprocessing.image import ImageDataGenerator\n",
    "\n",
    "new_model = tf.keras.models.load_model('my_model_testPDMS',compile = False)\n",
    "adam = Adam(learning_rate=0.01)\n",
    "new_model.compile(optimizer='adam', loss = 'categorical_crossentropy', metrics = ['acc'])\n",
    "test_datagen = ImageDataGenerator(rescale = 1.0/255.) \n",
    "test_dir = '/Users/mhegde/Downloads/generate_spectograms/test_app'\n",
    "test_generator = test_datagen.flow_from_directory(test_dir,\n",
    "                                                  batch_size=1,\n",
    "                                                 class_mode='categorical',\n",
    "                                                 target_size=(180,180),\n",
    "                                                 shuffle=False)\n",
    "new_model.evaluate(test_generator)\n"
   ]
  }
 ],
 "metadata": {
  "kernelspec": {
   "display_name": "Python 3",
   "language": "python",
   "name": "python3"
  },
  "language_info": {
   "codemirror_mode": {
    "name": "ipython",
    "version": 3
   },
   "file_extension": ".py",
   "mimetype": "text/x-python",
   "name": "python",
   "nbconvert_exporter": "python",
   "pygments_lexer": "ipython3",
   "version": "3.9.7"
  }
 },
 "nbformat": 4,
 "nbformat_minor": 2
}
