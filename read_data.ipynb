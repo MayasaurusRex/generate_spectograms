{
 "cells": [
  {
   "cell_type": "code",
   "execution_count": 1,
   "metadata": {},
   "outputs": [],
   "source": [
    "import firebase_admin \n",
    "from firebase_admin import credentials \n",
    "from firebase_admin import firestore \n",
    "from firebase_admin import db"
   ]
  },
  {
   "cell_type": "code",
   "execution_count": 2,
   "metadata": {},
   "outputs": [],
   "source": [
    "import numpy as np\n",
    "import pandas as pd\n",
    "import math\n",
    "from scipy import signal\n",
    "import matplotlib.pyplot as plt\n",
    "import matplotlib.colors as colors"
   ]
  },
  {
   "cell_type": "code",
   "execution_count": 3,
   "metadata": {},
   "outputs": [],
   "source": [
    "cred = credentials.Certificate('glaucoma-dc019-firebase-adminsdk-pfp4d-120a2945cb.json')\n",
    "app = firebase_admin.initialize_app(cred, {'databaseURL': 'https://glaucoma-dc019-default-rtdb.firebaseio.com'})\n",
    "db = firestore.client()"
   ]
  },
  {
   "cell_type": "code",
   "execution_count": 6,
   "metadata": {},
   "outputs": [
    {
     "name": "stdout",
     "output_type": "stream",
     "text": [
      "2023, Dec 24, 18:28\n",
      "2024, Jan 12, 14:40\n",
      "2024, Jan 8, 12:55\n"
     ]
    },
    {
     "name": "stderr",
     "output_type": "stream",
     "text": [
      "/Library/Frameworks/Python.framework/Versions/3.9/lib/python3.9/site-packages/scipy/signal/_spectral_py.py:1961: UserWarning: nperseg = 256 is greater than input length  = 136, using nperseg = 136\n",
      "  warnings.warn('nperseg = {0:d} is greater than input length '\n",
      "/Library/Frameworks/Python.framework/Versions/3.9/lib/python3.9/site-packages/scipy/signal/_spectral_py.py:1961: UserWarning: nperseg = 256 is greater than input length  = 121, using nperseg = 121\n",
      "  warnings.warn('nperseg = {0:d} is greater than input length '\n"
     ]
    },
    {
     "data": {
      "image/png": "[encoded data removed]",
      "text/plain": [
       "<Figure size 432x288 with 1 Axes>"
      ]
     },
     "metadata": {
      "needs_background": "light"
     },
     "output_type": "display_data"
    }
   ],
   "source": [
    "for col in db.collections():\n",
    "    print(col.id)\n",
    "\n",
    "    doc_ref = db.collection(col.id)\n",
    "\n",
    "    col_values = doc_ref.get()\n",
    "    values = []\n",
    "    for document in col_values:\n",
    "        values.append(document.to_dict()['value'])\n",
    "\n",
    "    fs = 838000\n",
    "    f, t, Zxx = signal.stft(values, fs, window='hann', return_onesided=True)\n",
    "    sdb = np.abs(Zxx);\n",
    "    plt.pcolormesh(t, f, sdb)\n",
    "    cc = max(sdb.flatten())+[-60, 0]\n",
    "    ax = plt.gca()\n",
    "    ax.CLim = cc\n",
    "    c = \"jet\"\n",
    "    ax.imshow(np.flip(np.fliplr(sdb)), cmap=c, norm=colors.LogNorm(vmin=sdb.min(), vmax=sdb.max()))\n",
    "    plt.axis('off')\n",
    "    filename = str(col.id) + '.png'\n",
    "    plt.savefig(filename)\n",
    "\n"
   ]
  }
 ],
 "metadata": {
  "kernelspec": {
   "display_name": "Python 3",
   "language": "python",
   "name": "python3"
  },
  "language_info": {
   "codemirror_mode": {
    "name": "ipython",
    "version": 3
   },
   "file_extension": ".py",
   "mimetype": "text/x-python",
   "name": "python",
   "nbconvert_exporter": "python",
   "pygments_lexer": "ipython3",
   "version": "3.9.7"
  }
 },
 "nbformat": 4,
 "nbformat_minor": 2
}
